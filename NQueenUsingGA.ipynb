{
 "cells": [
  {
   "cell_type": "markdown",
   "metadata": {},
   "source": [
    "## 8 Queen challenge Solved using Genetic Algorithm"
   ]
  },
  {
   "cell_type": "markdown",
   "metadata": {},
   "source": [
    "### Import Statements"
   ]
  },
  {
   "cell_type": "code",
   "execution_count": 92,
   "metadata": {},
   "outputs": [],
   "source": [
    "import numpy as np\n",
    "import pandas as pd\n",
    "from array import *\n",
    "from numpy import random\n",
    "from math import ceil\n",
    "import unittest"
   ]
  },
  {
   "cell_type": "markdown",
   "metadata": {},
   "source": [
    "### User defined constants"
   ]
  },
  {
   "cell_type": "code",
   "execution_count": 93,
   "metadata": {},
   "outputs": [],
   "source": [
    "mutationRate = 0.1\n",
    "Totalpopulation = 200\n",
    "crossOver = 0.5\n",
    "generationCount = 1000\n",
    "noOfQueens = 8"
   ]
  },
  {
   "cell_type": "code",
   "execution_count": 94,
   "metadata": {},
   "outputs": [],
   "source": [
    "def initialize_population(populations, scores):\n",
    "    for count in range(Totalpopulation):\n",
    "        positions = np.random.randint(noOfQueens,size=noOfQueens)\n",
    "        populations.append(positions)\n",
    "        scores.append(get_fitness_score(positions))\n",
    "    "
   ]
  },
  {
   "cell_type": "markdown",
   "metadata": {},
   "source": [
    "### Fitness Score function"
   ]
  },
  {
   "cell_type": "code",
   "execution_count": 95,
   "metadata": {},
   "outputs": [],
   "source": [
    "#This function calculates the score for the queens position in a chess board\n",
    "#The score is calculated based on the number of possible attacks for a combination\n",
    "#   a. Row wise check: This checks whether any queen poistioned on same row.\n",
    "#   b. diagonal check: This checks whether any queen positioned at any of its diagonal positions.\n",
    "#The score is zero for a combination where there are no possbile attacks\n",
    "#The non zero score denotes the number of times queen attacks is possible.\n",
    "# Example: get_fitness_score([1,4,6,3,0,7,5,2]) - 0\n",
    "#          get_fitness_score([0, 6, 3, 5, 0, 2, 4, 6]) - 3\n",
    "def get_fitness_score(population):\n",
    "    score = 0\n",
    "    #Row Wise check\n",
    "    for i in range(noOfQueens):\n",
    "        if i!=noOfQueens-1:\n",
    "            for j in range(i+1,noOfQueens):\n",
    "                if population[i] == population[j]:\n",
    "                    score+=1\n",
    "    #Calculate the diagonals for a queen position\n",
    "    population_xy = [(population[y],y) for y in range(noOfQueens) ]\n",
    "    diagonal=[]\n",
    "    for item in population_xy:\n",
    "        x=item[0]\n",
    "        y = z = item[1]\n",
    "        diagonal_item=[]\n",
    "        for x1 in reversed(range(x)):\n",
    "            y=y+1\n",
    "            if (y<=noOfQueens-1):\n",
    "                diagonal_item.append((x1,y))\n",
    "        for x2 in range(x+1,noOfQueens):\n",
    "            z=z+1\n",
    "            if (z<=noOfQueens-1):\n",
    "                diagonal_item.append((x2,z))\n",
    "        diagonal.append(diagonal_item)    \n",
    "    #b check if any queen present diagonally\n",
    "    for item in range(noOfQueens):\n",
    "        for queen in diagonal[item]:\n",
    "            if queen in population_xy:\n",
    "                #print(\"queen attacks\")\n",
    "                score += 1\n",
    "    return score\n"
   ]
  },
  {
   "cell_type": "code",
   "execution_count": 8,
   "metadata": {},
   "outputs": [
    {
     "data": {
      "text/plain": [
       "7"
      ]
     },
     "execution_count": 8,
     "metadata": {},
     "output_type": "execute_result"
    }
   ],
   "source": [
    "#get_fitness_score([3, 1, 6, 4, 0, 7, 5, 2])\n",
    "get_fitness_score([1, 6, 5, 3, 5, 2, 2, 6])\n"
   ]
  },
  {
   "cell_type": "code",
   "execution_count": 96,
   "metadata": {},
   "outputs": [],
   "source": [
    "def initialize_population(populations, scores):\n",
    "    for count in range(Totalpopulation):\n",
    "        positions = np.random.randint(8,size=8)\n",
    "        populations.append(positions)\n",
    "        scores.append(get_fitness_score(positions))"
   ]
  },
  {
   "cell_type": "code",
   "execution_count": 79,
   "metadata": {},
   "outputs": [
    {
     "name": "stderr",
     "output_type": "stream",
     "text": [
      "..C:\\Users\\Home\\anaconda3\\lib\\site-packages\\numpy\\testing\\_private\\utils.py:1325: DeprecationWarning: callable is None\n",
      "  return _d.assertRaises(*args,**kwargs)\n",
      "..."
     ]
    },
    {
     "name": "stdout",
     "output_type": "stream",
     "text": [
      "draw values : [array([1, 3, 1, 4, 4, 7, 5, 2]), array([6, 4, 6, 7, 0, 7, 5, 6])]\n",
      "Before mutation : [array([1, 3, 1, 4, 0, 7, 5, 6]), array([6, 4, 6, 7, 4, 7, 5, 2])]\n",
      "After mutation : [array([3, 3, 1, 4, 0, 7, 5, 6]), array([6, 4, 6, 7, 4, 7, 4, 2])]\n",
      "[array([3, 3, 1, 4, 0, 7, 5, 6]), array([6, 4, 6, 7, 4, 7, 4, 2])]\n"
     ]
    },
    {
     "name": "stderr",
     "output_type": "stream",
     "text": [
      "\n",
      "----------------------------------------------------------------------\n",
      "Ran 5 tests in 0.022s\n",
      "\n",
      "OK\n"
     ]
    }
   ],
   "source": [
    "class TestNQueen(unittest.TestCase):\n",
    "    \n",
    "    def test_get_fitness_score(self):\n",
    "        result = get_fitness_score([1, 6, 5, 3, 5, 2, 2, 6])\n",
    "        self.assertEqual(result, 7)\n",
    "        result = get_fitness_score([3, 1, 6, 4, 0, 7, 5, 2])\n",
    "        self.assertEqual(result, 0)\n",
    "    \n",
    "    def test_crossover(self):\n",
    "        parent = [np.array([1, 3, 1, 4, 4, 7, 5, 2]), np.array([6, 4, 6, 7, 0, 7, 5, 6])]\n",
    "        child = [np.array([1, 3, 1, 4, 0, 7, 5, 6]), np.array([6, 4, 6, 7, 4, 7, 5, 2])]\n",
    "        result = crossover(parent)\n",
    "        np.testing.assert_array_equal(result, child)\n",
    "        \n",
    "    def test_mutation(self):\n",
    "        child = [np.array([1, 3, 1, 4, 0, 7, 5, 6]), np.array([6, 4, 6, 7, 4, 7, 5, 2])]\n",
    "        result = mutation(child)\n",
    "        print(result)\n",
    "        np.testing.assert_raises(AssertionError, np.testing.assert_array_equal(result,child))\n",
    "        \n",
    "        \n",
    "if __name__ == '__main__':\n",
    "    unittest.main(argv=['first-arg-is-ignored'],exit=False)        \n"
   ]
  },
  {
   "cell_type": "markdown",
   "metadata": {},
   "source": [
    "### Cross Over Function"
   ]
  },
  {
   "cell_type": "code",
   "execution_count": 98,
   "metadata": {},
   "outputs": [],
   "source": [
    "#Function to create two new childs from 2 best parents.\n",
    "#Example: parent1: [0 6 3 5 0 2 4 6] parent2: [4 0 5 5 7 2 6 3]\n",
    "#         child1: [0 6 3 5 7 2 6 3] child2: [4 0 5 5 0 2 4 6]\n",
    "def crossover(draw):\n",
    "    #print(f\"draw values : {draw}\")\n",
    "    crossOverPoint = int(crossOver * noOfQueens)\n",
    "    #child = [(draw[0][0:crossOverPoint].tolist() + draw[1][crossOverPoint:].tolist()) ,\n",
    "    #        (draw[1][0:crossOverPoint].tolist() + draw[0][crossOverPoint:].tolist())] \n",
    "    child = [np.concatenate([draw[0][0:crossOverPoint], draw[1][crossOverPoint:]]) ,\n",
    "           np.concatenate([draw[1][0:crossOverPoint], draw[0][crossOverPoint:]])]\n",
    "    return child"
   ]
  },
  {
   "cell_type": "markdown",
   "metadata": {},
   "source": [
    "### Mutation Function"
   ]
  },
  {
   "cell_type": "code",
   "execution_count": 99,
   "metadata": {},
   "outputs": [],
   "source": [
    "#Function to change the random property of the child by replacing it with ranom value\n",
    "#Example: Child : [0 6 3 5 7 2 6 3]\n",
    "#Child after mutation: [0 6 3 5 4 2 6 3]\n",
    "def mutation(child_for_mutation):\n",
    "    mutation_bits = int(ceil(mutationRate * noOfQueens))\n",
    "    #print(\"Before mutation :\",child_for_mutation)\n",
    "    for i in range(0, mutation_bits):\n",
    "        child_for_mutation[0][random.randint(0,noOfQueens)] = random.randint(0,noOfQueens)\n",
    "        child_for_mutation[1][random.randint(0,noOfQueens)] = random.randint(0,noOfQueens)\n",
    "    #print(\"After mutation :\",child_for_mutation)   \n",
    "    return child_for_mutation "
   ]
  },
  {
   "cell_type": "markdown",
   "metadata": {},
   "source": [
    "### Main program"
   ]
  },
  {
   "cell_type": "code",
   "execution_count": 108,
   "metadata": {
    "scrolled": false
   },
   "outputs": [
    {
     "name": "stdout",
     "output_type": "stream",
     "text": [
      "Generation : 0, Average Score :  7.84, BestFit : [0 1 4 6 5 2 0 3]  [6 6 2 7 4 0 5 4]\n",
      "Generation : 1, Average Score :  7.82, BestFit : [0 1 4 6 5 2 0 3]  [2 7 7 4 7 0 6 5]\n",
      "Generation : 2, Average Score :  7.80, BestFit : [0 1 4 6 5 2 0 3]  [5 0 3 1 6 2 0 5]\n",
      "Generation : 3, Average Score :  7.78, BestFit : [0 1 4 6 5 2 0 3]  [1 4 5 0 5 7 2 3]\n",
      "Generation : 4, Average Score :  7.78, BestFit : [0 1 4 6 5 2 0 3]  [2 2 1 6 3 5 0 5]\n",
      "Generation : 5, Average Score :  7.75, BestFit : [0 1 4 6 5 2 0 3]  [0 3 0 2 2 5 1 4]\n",
      "Generation : 6, Average Score :  7.72, BestFit : [0 1 4 6 5 2 0 3]  [5 1 6 6 7 7 2 0]\n",
      "Generation : 7, Average Score :  7.71, BestFit : [0 1 4 6 5 2 0 3]  [6 6 2 7 4 0 5 4]\n",
      "Generation : 8, Average Score :  7.70, BestFit : [0 1 4 6 5 2 0 3]  [5 0 3 1 6 2 0 5]\n",
      "Generation : 9, Average Score :  7.69, BestFit : [0 1 4 6 5 2 0 3]  [1 1 6 6 5 2 0 3]\n",
      "Generation : 10, Average Score :  7.66, BestFit : [0 1 4 6 5 2 0 3]  [2 2 1 6 3 5 0 5]\n",
      "Generation : 11, Average Score :  7.65, BestFit : [0 1 4 6 5 2 0 3]  [0 2 4 6 3 5 0 5]\n",
      "Generation : 12, Average Score :  7.64, BestFit : [0 1 4 6 5 2 0 3]  [5 0 3 1 6 2 0 5]\n",
      "Generation : 13, Average Score :  7.62, BestFit : [0 1 4 6 5 2 0 3]  [1 1 6 6 5 2 0 3]\n",
      "Generation : 14, Average Score :  7.60, BestFit : [0 1 4 6 5 2 0 3]  [0 2 4 6 1 2 0 3]\n",
      "Generation : 15, Average Score :  7.59, BestFit : [0 1 4 6 5 2 0 3]  [0 3 0 2 2 5 1 4]\n",
      "Generation : 16, Average Score :  7.58, BestFit : [0 7 4 6 2 5 1 4]  [0 1 4 6 5 2 0 3]\n",
      "Generation : 17, Average Score :  7.56, BestFit : [0 7 4 6 2 5 1 4]  [0 2 4 6 3 5 0 5]\n",
      "Generation : 18, Average Score :  7.54, BestFit : [0 7 4 6 2 5 1 4]  [2 7 7 4 7 0 6 5]\n",
      "Generation : 19, Average Score :  7.50, BestFit : [0 7 4 6 2 5 1 4]  [0 2 4 6 1 2 0 3]\n",
      "Generation : 20, Average Score :  7.48, BestFit : [0 7 4 6 2 5 1 4]  [0 7 4 6 1 2 0 3]\n",
      "Generation : 21, Average Score :  7.45, BestFit : [0 7 4 6 2 5 1 4]  [0 7 4 6 1 2 0 3]\n",
      "Generation : 22, Average Score :  7.43, BestFit : [0 7 4 6 2 5 1 4]  [0 7 4 6 2 5 1 4]\n",
      "Generation : 23, Average Score :  7.40, BestFit : [0 7 4 6 2 5 1 4]  [0 7 4 6 2 5 1 4]\n",
      "Generation : 24, Average Score :  7.36, BestFit : [0 7 4 6 2 5 1 4]  [0 7 6 6 2 5 1 4]\n",
      "Generation : 25, Average Score :  7.33, BestFit : [0 7 4 6 2 5 1 4]  [0 7 6 6 2 5 1 4]\n",
      "Generation : 26, Average Score :  7.30, BestFit : [0 7 1 6 2 5 1 4]  [5 7 4 6 2 5 1 4]\n",
      "Generation : 27, Average Score :  7.27, BestFit : [0 7 1 6 2 5 1 4]  [5 7 4 6 0 5 1 4]\n",
      "Generation : 28, Average Score :  7.25, BestFit : [0 7 1 6 2 5 1 4]  [5 7 4 6 0 5 1 4]\n",
      "Generation : 29, Average Score :  7.23, BestFit : [0 7 1 6 2 5 1 4]  [5 7 4 6 0 5 1 4]\n",
      "Generation : 30, Average Score :  7.21, BestFit : [0 7 1 6 2 5 1 4]  [5 7 4 6 0 5 1 4]\n",
      "Generation : 31, Average Score :  7.19, BestFit : [0 7 1 6 2 5 1 4]  [5 7 4 6 0 5 1 4]\n",
      "Generation : 32, Average Score :  7.17, BestFit : [0 7 1 6 2 5 1 4]  [5 7 4 6 0 5 1 4]\n",
      "Generation : 33, Average Score :  7.14, BestFit : [0 7 1 6 2 5 1 4]  [5 7 4 6 0 5 1 4]\n",
      "Generation : 34, Average Score :  7.11, BestFit : [0 7 1 6 2 5 1 4]  [5 7 4 6 0 5 1 4]\n",
      "Generation : 35, Average Score :  7.09, BestFit : [0 7 1 6 2 5 1 4]  [5 7 4 6 0 5 1 4]\n",
      "Generation : 36, Average Score :  7.06, BestFit : [0 7 1 6 2 5 1 4]  [5 7 4 6 0 5 1 4]\n",
      "Generation : 37, Average Score :  7.05, BestFit : [0 7 1 6 2 5 1 4]  [5 7 4 6 0 5 1 4]\n",
      "Generation : 38, Average Score :  7.03, BestFit : [0 7 1 6 2 5 1 4]  [5 7 4 6 0 5 1 4]\n",
      "Generation : 39, Average Score :  7.01, BestFit : [0 7 1 6 2 5 1 4]  [5 7 4 6 0 5 1 4]\n",
      "Generation : 40, Average Score :  6.99, BestFit : [0 7 1 6 2 5 1 4]  [5 7 4 6 0 5 1 4]\n",
      "Generation : 41, Average Score :  6.97, BestFit : [0 7 1 6 2 5 1 4]  [5 7 4 6 0 5 1 4]\n",
      "Generation : 42, Average Score :  6.95, BestFit : [0 7 1 6 2 5 1 4]  [5 7 4 6 0 5 1 4]\n",
      "Generation : 43, Average Score :  6.93, BestFit : [0 7 1 6 2 5 1 4]  [5 7 4 6 0 5 1 4]\n",
      "Generation : 44, Average Score :  6.92, BestFit : [0 7 1 6 2 5 1 4]  [5 7 4 6 0 5 1 4]\n",
      "Generation : 45, Average Score :  6.89, BestFit : [0 7 1 6 2 5 1 4]  [5 7 4 6 0 5 1 4]\n",
      "Generation : 46, Average Score :  6.88, BestFit : [0 7 1 6 2 5 1 4]  [5 7 4 6 0 5 1 4]\n",
      "Generation : 47, Average Score :  6.86, BestFit : [0 7 1 6 2 5 1 4]  [5 7 4 6 0 5 1 4]\n",
      "Generation : 48, Average Score :  6.86, BestFit : [0 7 1 6 2 5 1 4]  [5 7 4 6 0 5 1 4]\n",
      "Generation : 49, Average Score :  6.84, BestFit : [0 7 1 6 2 5 1 4]  [5 7 4 6 0 5 1 4]\n",
      "Generation : 50, Average Score :  6.82, BestFit : [0 7 1 6 2 5 1 4]  [5 7 4 6 0 5 1 4]\n",
      "Generation : 51, Average Score :  6.82, BestFit : [0 7 1 6 2 5 1 4]  [5 7 4 6 0 5 1 4]\n",
      "Generation : 52, Average Score :  6.81, BestFit : [0 7 1 6 2 5 1 4]  [5 7 4 6 0 5 1 4]\n",
      "Generation : 53, Average Score :  6.79, BestFit : [0 7 1 6 2 5 1 4]  [5 7 4 6 0 5 1 4]\n",
      "Generation : 54, Average Score :  6.77, BestFit : [0 7 1 6 2 5 1 4]  [5 7 4 6 0 5 1 4]\n",
      "Generation : 55, Average Score :  6.75, BestFit : [0 7 1 6 2 5 1 4]  [5 7 4 6 0 5 1 4]\n",
      "Generation : 56, Average Score :  6.75, BestFit : [0 7 1 6 2 5 1 4]  [5 7 4 6 0 5 1 4]\n",
      "Generation : 57, Average Score :  6.73, BestFit : [0 7 1 6 2 5 1 4]  [5 7 4 6 0 5 1 4]\n",
      "Generation : 58, Average Score :  6.72, BestFit : [0 7 1 6 2 5 1 4]  [5 7 4 6 0 5 1 4]\n",
      "Generation : 59, Average Score :  6.70, BestFit : [0 7 1 6 2 5 1 4]  [5 7 4 6 0 5 1 4]\n",
      "Generation : 60, Average Score :  6.70, BestFit : [0 7 1 6 2 5 1 4]  [5 7 4 6 0 5 1 4]\n",
      "Generation : 61, Average Score :  6.67, BestFit : [0 7 1 6 2 5 1 4]  [5 7 4 6 0 5 1 4]\n",
      "Generation : 62, Average Score :  6.66, BestFit : [2 7 1 6 0 5 1 4]  [0 7 1 6 2 5 1 4]\n",
      "Generation : 63, Average Score :  6.64, BestFit : [2 7 1 6 0 5 1 4]  [0 7 1 6 2 5 1 4]\n",
      "Generation : 64, Average Score :  6.63, BestFit : [2 7 1 6 0 5 1 4]  [0 7 1 6 2 5 1 4]\n",
      "Generation : 65, Average Score :  6.62, BestFit : [2 7 1 6 0 5 1 4]  [0 7 1 6 2 5 1 4]\n",
      "Generation : 66, Average Score :  6.60, BestFit : [2 7 1 6 0 5 1 4]  [0 7 1 6 2 5 1 4]\n",
      "Generation : 67, Average Score :  6.58, BestFit : [2 7 1 6 0 5 1 4]  [0 7 1 6 2 5 1 4]\n",
      "Generation : 68, Average Score :  6.57, BestFit : [2 7 1 6 0 5 1 4]  [0 7 1 6 2 5 1 4]\n",
      "Generation : 69, Average Score :  6.55, BestFit : [2 7 1 6 0 5 1 4]  [0 7 1 6 2 5 1 4]\n",
      "Generation : 70, Average Score :  6.54, BestFit : [2 7 1 6 0 5 1 4]  [0 7 1 6 2 5 1 4]\n",
      "Generation : 71, Average Score :  6.53, BestFit : [2 7 1 6 0 5 1 4]  [0 7 1 6 2 5 1 4]\n",
      "Generation : 72, Average Score :  6.51, BestFit : [2 7 1 6 0 5 1 4]  [0 7 1 6 2 5 1 4]\n",
      "Generation : 73, Average Score :  6.49, BestFit : [2 7 1 6 0 5 1 4]  [2 7 1 6 0 5 1 4]\n",
      "Generation : 74, Average Score :  6.47, BestFit : [2 7 1 6 0 5 1 4]  [2 7 1 6 0 5 1 4]\n",
      "Generation : 75, Average Score :  6.45, BestFit : [2 7 1 6 0 5 1 4]  [2 7 1 6 0 5 1 4]\n",
      "Generation : 76, Average Score :  6.43, BestFit : [2 7 1 6 0 5 1 4]  [2 7 1 6 0 5 1 4]\n",
      "Generation : 77, Average Score :  6.42, BestFit : [2 7 1 6 0 5 1 4]  [2 7 1 6 0 5 1 4]\n",
      "Generation : 78, Average Score :  6.39, BestFit : [2 7 1 6 0 5 1 4]  [2 7 1 6 0 5 1 4]\n",
      "Generation : 79, Average Score :  6.38, BestFit : [2 7 1 6 0 5 1 4]  [2 7 1 6 0 5 1 4]\n",
      "Generation : 80, Average Score :  6.35, BestFit : [2 7 1 6 0 5 1 4]  [2 7 1 6 0 5 1 4]\n",
      "Generation : 81, Average Score :  6.33, BestFit : [2 7 1 6 0 5 1 4]  [2 7 1 6 0 5 7 4]\n",
      "Generation : 82, Average Score :  6.31, BestFit : [2 7 1 6 0 5 1 4]  [2 7 1 6 0 5 7 4]\n",
      "Generation : 83, Average Score :  6.29, BestFit : [2 7 1 6 0 5 1 4]  [2 7 1 6 0 5 7 4]\n",
      "Generation : 84, Average Score :  6.28, BestFit : [2 7 1 6 0 5 1 4]  [2 7 1 6 0 5 7 4]\n",
      "Generation : 85, Average Score :  6.27, BestFit : [2 7 1 6 0 5 1 4]  [2 7 1 6 0 5 7 4]\n",
      "Generation : 86, Average Score :  6.24, BestFit : [2 7 1 6 0 5 1 4]  [2 7 1 6 0 5 7 4]\n",
      "Generation : 87, Average Score :  6.23, BestFit : [2 7 1 6 0 5 1 4]  [2 7 1 6 0 5 1 4]\n",
      "Generation : 88, Average Score :  6.21, BestFit : [2 7 1 6 0 5 1 4]  [2 7 1 6 0 5 1 4]\n",
      "Generation : 89, Average Score :  6.19, BestFit : [2 7 1 6 0 5 1 4]  [2 7 1 6 0 5 1 4]\n",
      "Generation : 90, Average Score :  6.17, BestFit : [2 7 1 6 0 5 1 4]  [2 7 1 6 0 5 1 4]\n",
      "Generation : 91, Average Score :  6.15, BestFit : [2 7 1 6 0 5 1 4]  [2 7 1 6 0 5 1 4]\n",
      "[2 7 3 6 0 5 1 4]\n"
     ]
    }
   ],
   "source": [
    "#####main program\n",
    "####Step 1: Initialize the population with random positions and fitness scores\n",
    "populationData=[]\n",
    "fitness_scores=[]\n",
    "initialize_population(populationData, fitness_scores)\n",
    "#create a data frame\n",
    "columns = {\"QueenPositions\":populationData, \"FitnessScore\":fitness_scores}  \n",
    "queen_pos_score_df = pd.DataFrame(columns)\n",
    "queen_pos_score_df = queen_pos_score_df.sort_values(\"FitnessScore\")\n",
    "\n",
    "####Step2: For each generation generate 2 childs from 2 best parents after cross over and mutation\n",
    "for loop in range(generationCount):\n",
    "    draw = [queen_pos_score_df[0:1][\"QueenPositions\"].values[0], queen_pos_score_df[1:2][\"QueenPositions\"].values[0]]\n",
    "    #print('Fitness Scores of Parents ',get_fitness_score(draw[0]),get_fitness_score(draw[1]))\n",
    "    if (get_fitness_score(draw[0])==0):\n",
    "        print(draw[0])\n",
    "        break\n",
    "    elif (get_fitness_score(draw[1])==0):\n",
    "        print(draw(1))\n",
    "        break\n",
    "    child = crossover(draw)\n",
    "    mutated_child = mutation(child)\n",
    "    #Append child and its fitness score to the array    \n",
    "    mutated_child_ar = [np.array(mutated_child[0]), np.array(mutated_child[1])]\n",
    "    populationData.extend(mutated_child_ar)\n",
    "    mutated_child_scores = [get_fitness_score(mutated_child[0]), get_fitness_score(mutated_child[1])]\n",
    "    fitness_scores.extend(mutated_child_scores)\n",
    "    child_df = pd.DataFrame({'QueenPositions': mutated_child_ar,\n",
    "                             'FitnessScore': mutated_child_scores})\n",
    "    #Append child dataframe to the existing queen_pos_score_df\n",
    "    queen_pos_score_df = queen_pos_score_df.append(child_df, ignore_index=True)\n",
    "    queen_pos_score_df = queen_pos_score_df.sort_values(\"FitnessScore\")\n",
    "    queen_pos_score_df.reset_index(drop=True)\n",
    "    print(\"Generation : {}, Average Score : {:5.2f}, BestFit : {}  {}\" \n",
    "          .format(loop, queen_pos_score_df[\"FitnessScore\"].mean(), draw[0], draw[1]))"
   ]
  },
  {
   "cell_type": "code",
   "execution_count": 52,
   "metadata": {},
   "outputs": [
    {
     "data": {
      "text/plain": [
       "0"
      ]
     },
     "execution_count": 52,
     "metadata": {},
     "output_type": "execute_result"
    }
   ],
   "source": [
    "get_fitness_score([3, 1, 6, 4, 0, 7, 5, 2])\n"
   ]
  }
 ],
 "metadata": {
  "kernelspec": {
   "display_name": "Python 3",
   "language": "python",
   "name": "python3"
  },
  "language_info": {
   "codemirror_mode": {
    "name": "ipython",
    "version": 3
   },
   "file_extension": ".py",
   "mimetype": "text/x-python",
   "name": "python",
   "nbconvert_exporter": "python",
   "pygments_lexer": "ipython3",
   "version": "3.7.6"
  }
 },
 "nbformat": 4,
 "nbformat_minor": 4
}
